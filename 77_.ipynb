{
  "nbformat": 4,
  "nbformat_minor": 0,
  "metadata": {
    "colab": {
      "provenance": [],
      "authorship_tag": "ABX9TyMSuM2TisNnKWwIDmvHDRWA",
      "include_colab_link": true
    },
    "kernelspec": {
      "name": "python3",
      "display_name": "Python 3"
    },
    "language_info": {
      "name": "python"
    }
  },
  "cells": [
    {
      "cell_type": "markdown",
      "metadata": {
        "id": "view-in-github",
        "colab_type": "text"
      },
      "source": [
        "<a href=\"https://colab.research.google.com/github/egipot/100exercises_python/blob/main/77_.ipynb\" target=\"_parent\"><img src=\"https://colab.research.google.com/assets/colab-badge.svg\" alt=\"Open In Colab\"/></a>"
      ]
    },
    {
      "cell_type": "code",
      "execution_count": 4,
      "metadata": {
        "colab": {
          "base_uri": "https://localhost:8080/"
        },
        "id": "Qruosdne8_bR",
        "outputId": "20f4124e-0a25-4461-dcd4-f26591e072a4"
      },
      "outputs": [
        {
          "output_type": "stream",
          "name": "stdout",
          "text": [
            "What is your age?24\n",
            "We think you were born in 2000\n"
          ]
        }
      ],
      "source": [
        "#Exercise 77 - Year of Birth Calculator\n",
        "#Question: Create a script that asks the user to enter their age, and the script calculates the user's year of birth and prints it out in a string like in the expected output. Please make sure you generate the current year dynamically.\n",
        "\n",
        "#Expected output:\n",
        "#We think you were born back in 1988\n",
        "\n",
        "#Hint 1: Use input to prompt the user for their age.\n",
        "#Hint 2: To get the current year, use datetime.datetime.now().year.\n",
        "\n",
        "import datetime\n",
        "\n",
        "age = int(input('What is your age?'))\n",
        "\n",
        "current_year = datetime.datetime.now().year\n",
        "\n",
        "print(f'We think you were born in {current_year - age}')\n"
      ]
    },
    {
      "cell_type": "markdown",
      "source": [
        "\n",
        "\n",
        "---\n",
        "\n"
      ],
      "metadata": {
        "id": "BnN2BD_N-BFZ"
      }
    },
    {
      "cell_type": "markdown",
      "source": [
        "Exercise for reference:\n",
        "\n",
        "Create a script that asks the user to enter their age, and the script calculates the user's year of birth and prints it out in a string like in the expected output. Please make sure you generate the current year dynamically."
      ],
      "metadata": {
        "id": "syiqxQj1-L5m"
      }
    },
    {
      "cell_type": "code",
      "source": [
        "#ardit answer\n",
        "from datetime import datetime\n",
        "\n",
        "age = int(input(\"What's your age? \"))\n",
        "year_birth = datetime.now().year - age\n",
        "print(\"We think you were born back in %s\" % year_birth)"
      ],
      "metadata": {
        "colab": {
          "base_uri": "https://localhost:8080/"
        },
        "id": "HSz5W0oU9zoa",
        "outputId": "f9357000-f73e-43e9-adb9-794deab539d2"
      },
      "execution_count": 5,
      "outputs": [
        {
          "output_type": "stream",
          "name": "stdout",
          "text": [
            "What's your age? 24\n",
            "We think you were born back in 2000\n"
          ]
        }
      ]
    },
    {
      "cell_type": "markdown",
      "source": [
        "Explanation:\n",
        "\n",
        "We're getting user input, and we are converting it to an integer since input  loads everything as a string. Then we produce the current year dynamically with datetime.now().year  And we subtract the age from that to find out the year of birth. Lastly, in line 5, we use string formatting to produce a string with the year inside it.\n",
        "\n"
      ],
      "metadata": {
        "id": "_NEiYVoC-JnY"
      }
    }
  ]
}