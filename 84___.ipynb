{
 "cells": [
  {
   "cell_type": "code",
   "execution_count": null,
   "metadata": {},
   "outputs": [],
   "source": [
    "#pip install pyglet if the module is not yet available\n",
    "\n",
    "#Answer based on the documentation, specifically https://pyglet.readthedocs.io/en/latest/programming_guide/text.html \n",
    "\n",
    "import pyglet"
   ]
  },
  {
   "cell_type": "code",
   "execution_count": null,
   "metadata": {},
   "outputs": [],
   "source": [
    "window = pyglet.window.Window()\n",
    "label = pyglet.text.Label('Hello, world',\n",
    "                          font_name='Times New Roman',\n",
    "                          font_size=36,\n",
    "                          x=window.width//2, y=window.height//2,\n",
    "                          anchor_x='center', anchor_y='center')\n",
    "\n",
    "@window.event\n",
    "def on_draw():\n",
    "    window.clear()\n",
    "    label.draw()\n",
    "\n"
   ]
  },
  {
   "cell_type": "code",
   "execution_count": null,
   "metadata": {},
   "outputs": [],
   "source": [
    "pyglet.app.run()"
   ]
  }
 ],
 "metadata": {
  "language_info": {
   "codemirror_mode": {
    "name": "ipython",
    "version": 3
   },
   "file_extension": ".py",
   "mimetype": "text/x-python",
   "name": "python",
   "nbconvert_exporter": "python",
   "pygments_lexer": "ipython3",
   "version": 3
  }
 },
 "nbformat": 4,
 "nbformat_minor": 2
}
