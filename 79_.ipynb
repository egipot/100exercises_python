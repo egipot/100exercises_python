{
  "nbformat": 4,
  "nbformat_minor": 0,
  "metadata": {
    "colab": {
      "provenance": [],
      "authorship_tag": "ABX9TyN3oVYcHF3Kk2xSPVsyUEX7",
      "include_colab_link": true
    },
    "kernelspec": {
      "name": "python3",
      "display_name": "Python 3"
    },
    "language_info": {
      "name": "python"
    }
  },
  "cells": [
    {
      "cell_type": "markdown",
      "metadata": {
        "id": "view-in-github",
        "colab_type": "text"
      },
      "source": [
        "<a href=\"https://colab.research.google.com/github/egipot/100exercises_python/blob/main/79_.ipynb\" target=\"_parent\"><img src=\"https://colab.research.google.com/assets/colab-badge.svg\" alt=\"Open In Colab\"/></a>"
      ]
    },
    {
      "cell_type": "code",
      "execution_count": null,
      "metadata": {
        "id": "x1fOzSikNIm1"
      },
      "outputs": [],
      "source": [
        "#Exercise 79\n",
        "#Exercise for reference:\n",
        "#Create a program that asks the user to enter a new password and check that the submitted password should contain\n",
        "#  - at least one number,\n",
        "#  - one uppercase letter, and\n",
        "#  - at least 5 characters.\n",
        "#If the conditions are generated, print out \"Password is fine\"; otherwise, keep prompting the user for a password."
      ]
    },
    {
      "cell_type": "code",
      "source": [
        "def password_check(password):\n",
        "  if any(i.isdigit() for i in password) and any(i.isupper() for i in password) and len(password)>=5:\n",
        "    print('Password is fine')\n",
        "  else:\n",
        "    print('Password is not fine')\n",
        "\n",
        "\n",
        "password_check(input (\"Please enter a password: \"))"
      ],
      "metadata": {
        "colab": {
          "base_uri": "https://localhost:8080/"
        },
        "id": "FBCPwaqSNZgB",
        "outputId": "1d0de61d-215e-4721-c09b-1e301422d1ef"
      },
      "execution_count": null,
      "outputs": [
        {
          "output_type": "stream",
          "name": "stdout",
          "text": [
            "Please enter a password: abcDe123\n",
            "Password is fine\n"
          ]
        }
      ]
    },
    {
      "cell_type": "code",
      "source": [
        "password_check(input (\"Please enter a password: \"))"
      ],
      "metadata": {
        "colab": {
          "base_uri": "https://localhost:8080/"
        },
        "id": "-kveOZH-WEyI",
        "outputId": "53e320b7-d49c-4b4b-ebd3-381e31c58efd"
      },
      "execution_count": null,
      "outputs": [
        {
          "output_type": "stream",
          "name": "stdout",
          "text": [
            "Please enter a password: abc1\n",
            "Password is not fine\n"
          ]
        }
      ]
    },
    {
      "cell_type": "markdown",
      "source": [
        "\n",
        "\n",
        "---\n",
        "\n"
      ],
      "metadata": {
        "id": "JFaOawrvVfmv"
      }
    },
    {
      "cell_type": "code",
      "source": [
        "#ardit answer - does not terminate until the input is acceptable\n",
        "\n",
        "while True:\n",
        "    psw = input(\"Enter new password: \")\n",
        "    if any(i.isdigit() for i in psw) and any(i.isupper() for i in psw) and len(psw) >= 5:\n",
        "        print(\"Password is fine\")\n",
        "        break\n",
        "    else:\n",
        "        print(\"Password is not fine\")"
      ],
      "metadata": {
        "colab": {
          "base_uri": "https://localhost:8080/"
        },
        "id": "CraHf8dEUzhA",
        "outputId": "1af7a20f-1304-4258-bbc1-7e62701f6d04"
      },
      "execution_count": null,
      "outputs": [
        {
          "output_type": "stream",
          "name": "stdout",
          "text": [
            "Enter new password: abc1\n",
            "Password is not fine\n",
            "Enter new password: abcD\n",
            "Password is not fine\n",
            "Enter new password: abcde1\n",
            "Password is not fine\n",
            "Enter new password: abcdE!\n",
            "Password is not fine\n",
            "Enter new password: abcdE1\n",
            "Password is fine\n"
          ]
        }
      ]
    },
    {
      "cell_type": "markdown",
      "source": [
        "Explanation:\n",
        "\n",
        "We're using a while  loop here because we need to keep the program running until the user submits a password that satisfies all three conditions. Line 3 contains the three conditions connected with an and  operator. Line 3 becomes True  only when all three conditions are True . If that happens, Password is fine  is generated, and the break  statement will break the loop, and the program will stop. If at least one of the conditions in Line 3 is False Line 3 evaluates to False  and the print  statement under else is executed, and the loop starts over again."
      ],
      "metadata": {
        "id": "yatTOCZbWPpy"
      }
    }
  ]
}