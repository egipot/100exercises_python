{
  "nbformat": 4,
  "nbformat_minor": 0,
  "metadata": {
    "colab": {
      "provenance": [],
      "authorship_tag": "ABX9TyPBUToTlQeJ1ct/i55IVXOU",
      "include_colab_link": true
    },
    "kernelspec": {
      "name": "python3",
      "display_name": "Python 3"
    },
    "language_info": {
      "name": "python"
    }
  },
  "cells": [
    {
      "cell_type": "markdown",
      "metadata": {
        "id": "view-in-github",
        "colab_type": "text"
      },
      "source": [
        "<a href=\"https://colab.research.google.com/github/egipot/100exercises_python/blob/main/82_.ipynb\" target=\"_parent\"><img src=\"https://colab.research.google.com/assets/colab-badge.svg\" alt=\"Open In Colab\"/></a>"
      ]
    },
    {
      "cell_type": "code",
      "execution_count": null,
      "metadata": {
        "id": "rRsUqPakhUIl"
      },
      "outputs": [],
      "source": [
        "# Question: Use Python to calculate the distance in kilometers between Jupiter and Sun on January 1, 1230.\n",
        "\n",
        "# Expected output:\n",
        "# 758085657.5026425\n",
        "\n",
        "# Hint 1: Use the ephem  Python third party library.\n",
        "# Hint 2: Note that the units of ephem  are in Astronomical Units (AU). You need to convert them to kilometers."
      ]
    },
    {
      "cell_type": "markdown",
      "source": [
        "https://pypi.org/project/ephem/"
      ],
      "metadata": {
        "id": "fKDahIVQhqxe"
      }
    },
    {
      "cell_type": "code",
      "source": [
        "pip install ephem"
      ],
      "metadata": {
        "colab": {
          "base_uri": "https://localhost:8080/"
        },
        "id": "q7swcy1whjtq",
        "outputId": "580fe186-39f6-4f3d-ebc1-7f15624b9ed7"
      },
      "execution_count": 1,
      "outputs": [
        {
          "output_type": "stream",
          "name": "stdout",
          "text": [
            "Collecting ephem\n",
            "  Downloading ephem-4.1.5-cp310-cp310-manylinux_2_17_x86_64.manylinux2014_x86_64.whl (1.8 MB)\n",
            "\u001b[2K     \u001b[90m━━━━━━━━━━━━━━━━━━━━━━━━━━━━━━━━━━━━━━━━\u001b[0m \u001b[32m1.8/1.8 MB\u001b[0m \u001b[31m9.9 MB/s\u001b[0m eta \u001b[36m0:00:00\u001b[0m\n",
            "\u001b[?25hInstalling collected packages: ephem\n",
            "Successfully installed ephem-4.1.5\n"
          ]
        }
      ]
    },
    {
      "cell_type": "markdown",
      "source": [
        "Import the necessary module (as hinted)"
      ],
      "metadata": {
        "id": "hsEhKSzslLTl"
      }
    },
    {
      "cell_type": "code",
      "source": [
        "import ephem\n",
        "\n",
        "sun = ephem.Sun()\n",
        "planet = ephem.Jupiter()"
      ],
      "metadata": {
        "id": "vEHXLKZ4hsDi"
      },
      "execution_count": 12,
      "outputs": []
    },
    {
      "cell_type": "markdown",
      "source": [
        "Optionally, you can use datetime to store the date"
      ],
      "metadata": {
        "id": "n7TxWHVClUg5"
      }
    },
    {
      "cell_type": "code",
      "source": [
        "from datetime import datetime\n",
        "date = datetime(1230,1,1)\n",
        "date"
      ],
      "metadata": {
        "colab": {
          "base_uri": "https://localhost:8080/"
        },
        "id": "mgOtO-CVjSMI",
        "outputId": "fc8b4341-7a8f-4205-ad4f-537612852c50"
      },
      "execution_count": 13,
      "outputs": [
        {
          "output_type": "execute_result",
          "data": {
            "text/plain": [
              "datetime.datetime(1230, 1, 1, 0, 0)"
            ]
          },
          "metadata": {},
          "execution_count": 13
        }
      ]
    },
    {
      "cell_type": "code",
      "source": [
        "print(planet.compute(date))\n"
      ],
      "metadata": {
        "colab": {
          "base_uri": "https://localhost:8080/"
        },
        "id": "FvgXnXYrj6cn",
        "outputId": "2ca95a7a-304b-4d9a-f772-4ace1973121b"
      },
      "execution_count": 14,
      "outputs": [
        {
          "output_type": "stream",
          "name": "stdout",
          "text": [
            "None\n"
          ]
        }
      ]
    },
    {
      "cell_type": "code",
      "source": [
        "print(planet.compute('1230/0/1'))"
      ],
      "metadata": {
        "colab": {
          "base_uri": "https://localhost:8080/"
        },
        "id": "KbCyym8aksng",
        "outputId": "53f1d92f-c6cd-4cc5-f4ce-20da1afe3345"
      },
      "execution_count": 15,
      "outputs": [
        {
          "output_type": "stream",
          "name": "stdout",
          "text": [
            "None\n"
          ]
        }
      ]
    },
    {
      "cell_type": "markdown",
      "source": [
        "\n",
        "\n",
        "> Calculate distance from the sun : **sun_distance — Distance to Sun (AU)**\n",
        "\n",
        "\n",
        "> **Astronomical Units**: An astronomical unit is the average distance between the Earth and the Sun. Estimates of this distance have varied over time. It is now defined as exactly 149,597,870.691 kilometers.\n",
        "\n",
        "\n",
        "\n",
        "\n"
      ],
      "metadata": {
        "id": "AoXZpFcoleTe"
      }
    },
    {
      "cell_type": "code",
      "source": [
        "distance_au_units = planet.sun_distance\n",
        "distance_km = distance_au_units * 149597870.691"
      ],
      "metadata": {
        "id": "JT_HlewvlAKw"
      },
      "execution_count": 10,
      "outputs": []
    },
    {
      "cell_type": "code",
      "source": [
        "distance_km"
      ],
      "metadata": {
        "colab": {
          "base_uri": "https://localhost:8080/"
        },
        "id": "BF8js0bglETh",
        "outputId": "49c146ff-316e-47e9-d873-64b6bcffc9de"
      },
      "execution_count": 11,
      "outputs": [
        {
          "output_type": "execute_result",
          "data": {
            "text/plain": [
              "758085657.5026425"
            ]
          },
          "metadata": {},
          "execution_count": 11
        }
      ]
    },
    {
      "cell_type": "markdown",
      "source": [
        "Exercise for reference:\n",
        "\n",
        "Use Python to calculate the distance in kilometers between Jupiter and Sun on January 1, 1230.\n",
        "\n",
        "Answer:\n",
        "\n",
        "import ephem\n",
        "jupiter = ephem.Jupiter()\n",
        "jupiter.compute('1230/1/1')\n",
        "distance_au_units = jupiter.sun_distance\n",
        "distance_km = distance_au_units * 149597870.691\n",
        "print(distance_km)\n",
        "Explanation:\n",
        "\n",
        "This solution required some internet research to find out about the ephem  library, which is used for astronomy computations. The library can be installed with pip install ephemBut if that doesn't work on Windows, then download a precompiled version from here and install it again with pip like pip install ephem‑3.7.6.0‑cp36‑cp36m‑win_amd64.whl\n",
        "\n",
        "In the ephem webpage, you can find an example to start. The above solution was developed based on that example."
      ],
      "metadata": {
        "id": "PiX_g3eelIpr"
      }
    }
  ]
}