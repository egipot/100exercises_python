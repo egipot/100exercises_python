{
  "nbformat": 4,
  "nbformat_minor": 0,
  "metadata": {
    "colab": {
      "provenance": [],
      "authorship_tag": "ABX9TyP5ngiUR+NHC9eCfvkxTTuJ",
      "include_colab_link": true
    },
    "kernelspec": {
      "name": "python3",
      "display_name": "Python 3"
    },
    "language_info": {
      "name": "python"
    }
  },
  "cells": [
    {
      "cell_type": "markdown",
      "metadata": {
        "id": "view-in-github",
        "colab_type": "text"
      },
      "source": [
        "<a href=\"https://colab.research.google.com/github/egipot/100exercises_python/blob/main/80_.ipynb\" target=\"_parent\"><img src=\"https://colab.research.google.com/assets/colab-badge.svg\" alt=\"Open In Colab\"/></a>"
      ]
    },
    {
      "cell_type": "code",
      "execution_count": null,
      "metadata": {
        "id": "EF0WV7L4T24t"
      },
      "outputs": [],
      "source": [
        "#Create a script that lets the user submit a password until they have satisfied these three conditions:\n",
        "#1. Password contains at least one number\n",
        "#2. Contains one uppercase letter\n",
        "#3. It is at least 5 characters long\n",
        "# Give the exact reason why the user has not created a correct password.\n",
        "\n",
        "#Hint: Here you could need to append the messages to a list.\n"
      ]
    },
    {
      "cell_type": "code",
      "source": [
        "#egi answer:\n",
        "\n",
        "while True:\n",
        "  error_causes = []\n",
        "  password = input(\"Enter password: \")\n",
        "  if not any(i.isdigit() for i in password):\n",
        "      error_causes.append('Password must contain at least one number')\n",
        "  if not any(i.isupper() for i in password):\n",
        "      error_causes.append('Password must contain at least one uppercase letter')\n",
        "  if len(password) < 5:\n",
        "      error_causes.append('Password must have at least 5 characters long')\n",
        "  if len(error_causes) == 0:\n",
        "    print('Password is fine.')\n",
        "    break\n",
        "\n",
        "  else:\n",
        "    for i in error_causes:\n",
        "      print(i)\n",
        ""
      ],
      "metadata": {
        "colab": {
          "base_uri": "https://localhost:8080/"
        },
        "id": "dtrKDuqGUc3X",
        "outputId": "d8539f5c-d59b-48a8-c601-41e9a64d38d5"
      },
      "execution_count": 20,
      "outputs": [
        {
          "output_type": "stream",
          "name": "stdout",
          "text": [
            "Enter password: ya\n",
            "Password must contain at least one number\n",
            "Password must contain at least one uppercase letter\n",
            "Password must have at least 5 characters long\n",
            "Enter password: ya1\n",
            "Password must contain at least one uppercase letter\n",
            "Password must have at least 5 characters long\n",
            "Enter password: yahoo1\n",
            "Password must contain at least one uppercase letter\n",
            "Enter password: Yaho1\n",
            "Password is fine.\n"
          ]
        }
      ]
    },
    {
      "cell_type": "markdown",
      "source": [
        "\n",
        "\n",
        "---\n",
        "\n"
      ],
      "metadata": {
        "id": "CzaWc5d5WN8t"
      }
    },
    {
      "cell_type": "markdown",
      "source": [
        "#ardit answer"
      ],
      "metadata": {
        "id": "YP4TV14RWK65"
      }
    },
    {
      "cell_type": "code",
      "source": [
        "while True:\n",
        "    notes = []\n",
        "    psw = input(\"Enter password: \")\n",
        "    if not any(i.isdigit() for i in psw):\n",
        "        notes.append(\"You need at least one number\")\n",
        "    if not any(i.isupper() for i in psw):\n",
        "        notes.append(\"You need at least one uppercase letter\")\n",
        "    if len(psw) < 5:\n",
        "        notes.append(\"You need at least 5 characters\")\n",
        "    if len(notes) == 0:\n",
        "        print(\"Password is fine\")\n",
        "        break\n",
        "    else:\n",
        "        print(\"Please check the following: \")\n",
        "        for note in notes:\n",
        "            print(note)"
      ],
      "metadata": {
        "colab": {
          "base_uri": "https://localhost:8080/"
        },
        "id": "2d2ln8bXWh1V",
        "outputId": "5637d945-2c94-436a-f0c6-3ff95b8635e8"
      },
      "execution_count": 8,
      "outputs": [
        {
          "output_type": "stream",
          "name": "stdout",
          "text": [
            "Enter password: ya\n",
            "Please check the following: \n",
            "You need at least one number\n",
            "You need at least one uppercase letter\n",
            "You need at least 5 characters\n",
            "Enter password: ya1\n",
            "Please check the following: \n",
            "You need at least one uppercase letter\n",
            "You need at least 5 characters\n",
            "Enter password: Ya1\n",
            "Please check the following: \n",
            "You need at least 5 characters\n",
            "Enter password: Yahoo\n",
            "Please check the following: \n",
            "You need at least one number\n",
            "Enter password: yahoo1\n",
            "Please check the following: \n",
            "You need at least one uppercase letter\n",
            "Enter password: Yahoo1\n",
            "Password is fine\n"
          ]
        }
      ]
    },
    {
      "cell_type": "markdown",
      "source": [
        "Explanation:\n",
        "\n",
        "Again, we're using a while loop. In the first if  condition, we check if there is any number in the submitted password, and if there is, we append a message string to the notes  list. Then, we check the next conditions in the next two if  conditionals and keep adding messages to notes . We also check if the length of notes  is zero because it if is, that means there was no message added there, which means the password is fine. Lastly, under else , we iterate through the constructed list and print out its items (i.e., messages)."
      ],
      "metadata": {
        "id": "c-OjXSbwWj-0"
      }
    }
  ]
}