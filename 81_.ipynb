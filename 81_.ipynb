{
  "nbformat": 4,
  "nbformat_minor": 0,
  "metadata": {
    "colab": {
      "provenance": [],
      "authorship_tag": "ABX9TyOkMkGZc2To6qn4lpVNC+g6",
      "include_colab_link": true
    },
    "kernelspec": {
      "name": "python3",
      "display_name": "Python 3"
    },
    "language_info": {
      "name": "python"
    }
  },
  "cells": [
    {
      "cell_type": "markdown",
      "metadata": {
        "id": "view-in-github",
        "colab_type": "text"
      },
      "source": [
        "<a href=\"https://colab.research.google.com/github/egipot/100exercises_python/blob/main/81_.ipynb\" target=\"_parent\"><img src=\"https://colab.research.google.com/assets/colab-badge.svg\" alt=\"Open In Colab\"/></a>"
      ]
    },
    {
      "cell_type": "code",
      "execution_count": null,
      "metadata": {
        "id": "hOSS-jZIaEdj"
      },
      "outputs": [],
      "source": [
        "#Create a script that lets the user submit a password until they have satisfied these three conditions:\n",
        "#1. Password contains at least one number\n",
        "#2. Contains one uppercase letter\n",
        "#3. It is at least 5 characters long\n",
        "# Give the exact reason why the user has not created a correct password.\n",
        "\n",
        "#Before asking for password, ask for username\n",
        "\n",
        "#Hint: Here you could need to append the messages to a list.\n",
        "#Hint: Here you would need two loops, one for checking for username and one that checks for the password.\n",
        "\n",
        "#Note: users.txt is uploaded in /content"
      ]
    },
    {
      "cell_type": "code",
      "source": [
        "while True:\n",
        "  username = input(\"Enter username: \")\n",
        "  with open('users.txt', 'r') as f:\n",
        "    users = f.read().splitlines()\n",
        "    #print(users) #just for checking\n",
        "    if not username in users:\n",
        "      print('Please provide a valid username.')\n",
        "    else:\n",
        "      print('Username exists')\n",
        "      break"
      ],
      "metadata": {
        "colab": {
          "base_uri": "https://localhost:8080/"
        },
        "id": "gMye_LTzbl57",
        "outputId": "889af97a-1a80-40be-d7dd-5fb6e30ed131"
      },
      "execution_count": 4,
      "outputs": [
        {
          "output_type": "stream",
          "name": "stdout",
          "text": [
            "Enter username: PlanetX\n",
            "Please provide a valid username.\n",
            "Enter username: Sun\n",
            "Please provide a valid username.\n",
            "Enter username: Moon\n",
            "Please provide a valid username.\n",
            "Enter username: Earth\n",
            "Username exists\n"
          ]
        }
      ]
    },
    {
      "cell_type": "code",
      "source": [
        "\n",
        "while True:\n",
        "  error_causes = []\n",
        "  password = input(\"Enter password: \")\n",
        "  if not any(i.isdigit() for i in password):\n",
        "      error_causes.append('Password must contain at least one number')\n",
        "  if not any(i.isupper() for i in password):\n",
        "      error_causes.append('Password must contain at least one uppercase letter')\n",
        "  if len(password) < 5:\n",
        "      error_causes.append('Password must have at least 5 characters long')\n",
        "  if len(error_causes) == 0:\n",
        "    print('Password is fine.')\n",
        "    break\n",
        "\n",
        "  else:\n",
        "    for i in error_causes:\n",
        "      print(i)"
      ],
      "metadata": {
        "colab": {
          "base_uri": "https://localhost:8080/"
        },
        "id": "znGyJhD7aHBU",
        "outputId": "20af033c-ff12-4e52-9152-7deccc8ad224"
      },
      "execution_count": 5,
      "outputs": [
        {
          "output_type": "stream",
          "name": "stdout",
          "text": [
            "Enter password: ya\n",
            "Password must contain at least one number\n",
            "Password must contain at least one uppercase letter\n",
            "Password must have at least 5 characters long\n",
            "Enter password: Yahoo1\n",
            "Password is fine.\n"
          ]
        }
      ]
    },
    {
      "cell_type": "code",
      "source": [
        "#Username check:\n",
        "while True:\n",
        "  username = input(\"Enter username: \")\n",
        "  with open('users.txt', 'r') as f:\n",
        "    users = f.read().splitlines()\n",
        "    #print(users) #just for checking\n",
        "    if not username in users:\n",
        "      print('Please provide a valid username.')\n",
        "    else:\n",
        "      print('Username exists')\n",
        "      break\n",
        "\n",
        "#Password check\n",
        "while True:\n",
        "  error_causes = []\n",
        "  password = input(\"Enter password: \")\n",
        "  if not any(i.isdigit() for i in password):\n",
        "      error_causes.append('Password must contain at least one number')\n",
        "  if not any(i.isupper() for i in password):\n",
        "      error_causes.append('Password must contain at least one uppercase letter')\n",
        "  if len(password) < 5:\n",
        "      error_causes.append('Password must have at least 5 characters long')\n",
        "  if len(error_causes) == 0:\n",
        "    print('Password is fine.')\n",
        "    break\n",
        "\n",
        "  else:\n",
        "    for i in error_causes:\n",
        "      print(i)"
      ],
      "metadata": {
        "colab": {
          "base_uri": "https://localhost:8080/"
        },
        "id": "Xp09MxIucFWx",
        "outputId": "aedc5c52-bcc7-4017-84de-ddb47578147e"
      },
      "execution_count": 6,
      "outputs": [
        {
          "output_type": "stream",
          "name": "stdout",
          "text": [
            "Enter username: PlanetX\n",
            "Please provide a valid username.\n",
            "Enter username: Moon\n",
            "Please provide a valid username.\n",
            "Enter username: Sun\n",
            "Please provide a valid username.\n",
            "Enter username: Venus\n",
            "Username exists\n",
            "Enter password: ya\n",
            "Password must contain at least one number\n",
            "Password must contain at least one uppercase letter\n",
            "Password must have at least 5 characters long\n",
            "Enter password: Yahoo1\n",
            "Password is fine.\n"
          ]
        }
      ]
    },
    {
      "cell_type": "markdown",
      "source": [
        "\n",
        "\n",
        "---\n",
        "\n"
      ],
      "metadata": {
        "id": "gdwfaj9scUEC"
      }
    },
    {
      "cell_type": "code",
      "source": [
        "#ardit answer:\n",
        "while True:\n",
        "    usr = input(\"Enter username: \")\n",
        "    with open(\"users.txt\", \"r\") as file:\n",
        "        users = file.readlines()\n",
        "        users = [i.strip(\"\\n\") for i in users]\n",
        "    if usr in users:\n",
        "        print(\"Username exists\")\n",
        "        continue\n",
        "    else:\n",
        "        print(\"Username is fine\")\n",
        "        break\n",
        "\n",
        "while True:\n",
        "    notes = []\n",
        "    psw = input(\"Enter password: \")\n",
        "    if not any(i.isdigit() for i in psw):\n",
        "        notes.append(\"You need at least one number\")\n",
        "    if not any(i.isupper() for i in psw):\n",
        "        notes.append(\"You need at least one uppercase letter\")\n",
        "    if len(psw) < 5:\n",
        "        notes.append(\"You need at least 5 characters\")\n",
        "    if len(notes) == 0:\n",
        "        print(\"Password is fine\")\n",
        "        break\n",
        "    else:\n",
        "        print(\"Please check the following: \")\n",
        "        for note in notes:\n",
        "            print(note)\n"
      ],
      "metadata": {
        "colab": {
          "base_uri": "https://localhost:8080/"
        },
        "id": "kN3UUNt9cVwO",
        "outputId": "56611982-0d9a-4abc-b4a3-687487608924"
      },
      "execution_count": 7,
      "outputs": [
        {
          "output_type": "stream",
          "name": "stdout",
          "text": [
            "Enter username: PlanetX\n",
            "Username is fine\n",
            "Enter password: ya\n",
            "Please check the following: \n",
            "You need at least one number\n",
            "You need at least one uppercase letter\n",
            "You need at least 5 characters\n",
            "Enter password: ya1\n",
            "Please check the following: \n",
            "You need at least one uppercase letter\n",
            "You need at least 5 characters\n",
            "Enter password: Ya1\n",
            "Please check the following: \n",
            "You need at least 5 characters\n",
            "Enter password: Yahoo1\n",
            "Password is fine\n"
          ]
        }
      ]
    }
  ]
}