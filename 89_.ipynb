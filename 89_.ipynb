{
  "nbformat": 4,
  "nbformat_minor": 0,
  "metadata": {
    "colab": {
      "provenance": [],
      "authorship_tag": "ABX9TyONtEP9JEdOd1lSyf3DMMJs",
      "include_colab_link": true
    },
    "kernelspec": {
      "name": "python3",
      "display_name": "Python 3"
    },
    "language_info": {
      "name": "python"
    }
  },
  "cells": [
    {
      "cell_type": "markdown",
      "metadata": {
        "id": "view-in-github",
        "colab_type": "text"
      },
      "source": [
        "<a href=\"https://colab.research.google.com/github/egipot/100exercises_python/blob/main/89_.ipynb\" target=\"_parent\"><img src=\"https://colab.research.google.com/assets/colab-badge.svg\" alt=\"Open In Colab\"/></a>"
      ]
    },
    {
      "cell_type": "code",
      "execution_count": null,
      "metadata": {
        "id": "IRANvDAx4B6H"
      },
      "outputs": [],
      "source": [
        "#89 Database filter\n",
        "\n",
        "# Please download the database file (database.db).\n",
        "# The file contains a table with 50 country names along with their area in square km and population.\n",
        "# Please use Python to print out those countries that have an area of greater than 2,000,000.\n",
        "\n"
      ]
    },
    {
      "cell_type": "code",
      "source": [
        "import sqlite3\n"
      ],
      "metadata": {
        "id": "UW5un8bV8x-X"
      },
      "execution_count": 45,
      "outputs": []
    },
    {
      "cell_type": "code",
      "source": [
        "conn = sqlite3.connect(\"database.db\")"
      ],
      "metadata": {
        "id": "5A1-MXtj88Gk"
      },
      "execution_count": 46,
      "outputs": []
    },
    {
      "cell_type": "code",
      "source": [
        "cur = conn.cursor()"
      ],
      "metadata": {
        "id": "YYLOf-NU9DkG"
      },
      "execution_count": 47,
      "outputs": []
    },
    {
      "cell_type": "code",
      "source": [
        "cur.execute(\"SELECT country FROM countries\")"
      ],
      "metadata": {
        "colab": {
          "base_uri": "https://localhost:8080/"
        },
        "id": "YiEAnt1xCGRU",
        "outputId": "79baf272-79ed-43be-985e-58a419642f46"
      },
      "execution_count": 49,
      "outputs": [
        {
          "output_type": "execute_result",
          "data": {
            "text/plain": [
              "<sqlite3.Cursor at 0x7a23caa86740>"
            ]
          },
          "metadata": {},
          "execution_count": 49
        }
      ]
    },
    {
      "cell_type": "code",
      "source": [
        "rows = cur.fetchall()"
      ],
      "metadata": {
        "id": "xdhGDr7dCP9P"
      },
      "execution_count": 50,
      "outputs": []
    },
    {
      "cell_type": "code",
      "source": [
        "rows"
      ],
      "metadata": {
        "colab": {
          "base_uri": "https://localhost:8080/"
        },
        "id": "a0yECzvrCSYC",
        "outputId": "fd033b30-7293-41b8-82c0-bb9e2ea10ef6"
      },
      "execution_count": 51,
      "outputs": [
        {
          "output_type": "execute_result",
          "data": {
            "text/plain": [
              "[('Russia',),\n",
              " ('Canada',),\n",
              " ('United States of America',),\n",
              " ('China',),\n",
              " ('Brazil',),\n",
              " ('Australia',),\n",
              " ('India',),\n",
              " ('Argentina',),\n",
              " ('Kazakhstan',),\n",
              " ('Algeria',),\n",
              " ('Congo Dem Rep of the',),\n",
              " ('Greenland',),\n",
              " ('Saudi Arabia',),\n",
              " ('Mexico',),\n",
              " ('Indonesia',),\n",
              " ('Sudan',),\n",
              " ('Libya',),\n",
              " ('Iran',),\n",
              " ('Mongolia',),\n",
              " ('Peru',),\n",
              " ('Chad',),\n",
              " ('Niger',),\n",
              " ('Angola',),\n",
              " ('Mali',),\n",
              " ('South Africa',),\n",
              " ('Colombia',),\n",
              " ('Ethiopia',),\n",
              " ('Bolivia',),\n",
              " ('Mauritania',),\n",
              " ('Egypt',),\n",
              " ('Tanzania',),\n",
              " ('Nigeria',),\n",
              " ('Venezuela',),\n",
              " ('Namibia',),\n",
              " ('Pakistan',),\n",
              " ('Mozambique',),\n",
              " ('Turkey',),\n",
              " ('Chile',),\n",
              " ('Zambia',),\n",
              " ('Myanmar (Burma)',),\n",
              " ('Afghanistan',),\n",
              " ('South Sudan',),\n",
              " ('France',),\n",
              " ('Somalia',),\n",
              " ('Central African Republic',),\n",
              " ('Ukraine',),\n",
              " ('Botswana',),\n",
              " ('Madagascar',),\n",
              " ('Kenya',),\n",
              " ('Yemen',),\n",
              " ('Spain',),\n",
              " ('Turkmenistan',),\n",
              " ('Cameroon',),\n",
              " ('Papua New Guinea',),\n",
              " ('Uzbekistan',),\n",
              " ('Morocco',),\n",
              " ('Iraq',),\n",
              " ('Sweden',),\n",
              " ('Paraguay',),\n",
              " ('Japan',)]"
            ]
          },
          "metadata": {},
          "execution_count": 51
        }
      ]
    },
    {
      "cell_type": "code",
      "source": [
        "print_db= [a for a in cur.execute(\"SELECT * FROM sqlite_master \")]\n",
        "print(print_db)  # This will show the available table names"
      ],
      "metadata": {
        "colab": {
          "base_uri": "https://localhost:8080/"
        },
        "id": "Cb-yruPhCXSW",
        "outputId": "b5a1b4a6-c87c-41c9-f6c6-59c94968da75"
      },
      "execution_count": 55,
      "outputs": [
        {
          "output_type": "stream",
          "name": "stdout",
          "text": [
            "[('table', 'countries', 'countries', 2, 'CREATE TABLE countries (id INTEGER PRIMARY KEY, country text, area integer, population integer)')]\n"
          ]
        }
      ]
    },
    {
      "cell_type": "code",
      "source": [
        "# Please use Python to print out those countries that have an area of greater than 2,000,000.\n",
        "cur.execute(\"SELECT country FROM countries WHERE area >= 2000000\")"
      ],
      "metadata": {
        "colab": {
          "base_uri": "https://localhost:8080/"
        },
        "id": "xsJ6WhQbDBYh",
        "outputId": "64c4a2a0-b754-4285-94d9-fee61cc57ef7"
      },
      "execution_count": 56,
      "outputs": [
        {
          "output_type": "execute_result",
          "data": {
            "text/plain": [
              "<sqlite3.Cursor at 0x7a23caa86740>"
            ]
          },
          "metadata": {},
          "execution_count": 56
        }
      ]
    },
    {
      "cell_type": "code",
      "source": [
        "filtered_rows = cur.fetchall()\n",
        "filtered_rows"
      ],
      "metadata": {
        "colab": {
          "base_uri": "https://localhost:8080/"
        },
        "id": "eLUTlxlqDOQW",
        "outputId": "1f3e02cb-313c-46ea-9d1f-00945bc1743f"
      },
      "execution_count": 57,
      "outputs": [
        {
          "output_type": "execute_result",
          "data": {
            "text/plain": [
              "[('Russia',),\n",
              " ('Canada',),\n",
              " ('United States of America',),\n",
              " ('China',),\n",
              " ('Brazil',),\n",
              " ('Australia',),\n",
              " ('India',),\n",
              " ('Argentina',),\n",
              " ('Kazakhstan',),\n",
              " ('Algeria',),\n",
              " ('Congo Dem Rep of the',),\n",
              " ('Greenland',),\n",
              " ('Saudi Arabia',)]"
            ]
          },
          "metadata": {},
          "execution_count": 57
        }
      ]
    },
    {
      "cell_type": "code",
      "source": [
        "conn.close()"
      ],
      "metadata": {
        "id": "EB-QjHkODder"
      },
      "execution_count": 58,
      "outputs": []
    }
  ]
}