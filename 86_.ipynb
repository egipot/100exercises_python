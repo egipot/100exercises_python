{
  "nbformat": 4,
  "nbformat_minor": 0,
  "metadata": {
    "colab": {
      "provenance": [],
      "authorship_tag": "ABX9TyP8NFvCwgFHXl9GBpIAdkWb",
      "include_colab_link": true
    },
    "kernelspec": {
      "name": "python3",
      "display_name": "Python 3"
    },
    "language_info": {
      "name": "python"
    }
  },
  "cells": [
    {
      "cell_type": "markdown",
      "metadata": {
        "id": "view-in-github",
        "colab_type": "text"
      },
      "source": [
        "<a href=\"https://colab.research.google.com/github/egipot/100exercises_python/blob/main/86_.ipynb\" target=\"_parent\"><img src=\"https://colab.research.google.com/assets/colab-badge.svg\" alt=\"Open In Colab\"/></a>"
      ]
    },
    {
      "cell_type": "code",
      "execution_count": null,
      "metadata": {
        "id": "RUxOtoVPlI5e"
      },
      "outputs": [],
      "source": [
        "# Please take a look at the following list:\n",
        "\n",
        "# checklist = [\"Portugal\", \"Germany\", \"Munster\", \"Spain\"]\n",
        "\n",
        "# One of the items is not a country. Please use Python and the file containing the list of countries (attached) as the data source to filter out the checklist of non-country items.\n",
        "# Once you have filtered out checklist , then print it out"
      ]
    },
    {
      "cell_type": "code",
      "source": [
        "checklist = [\"Portugal\", \"Germany\", \"Munster\", \"Spain\"]\n",
        "checked = checklist.copy()\n",
        "\n",
        "with open('countries_list_edited.txt') as f:\n",
        "    countries = f.read().splitlines()\n",
        "\n",
        "for element in checked:\n",
        "  if element not in countries:\n",
        "    checked.remove(element)\n",
        "\n",
        "print(checklist)\n",
        "print(checked)"
      ],
      "metadata": {
        "colab": {
          "base_uri": "https://localhost:8080/"
        },
        "id": "8l40ZfsflaOV",
        "outputId": "e4228763-4308-41aa-f857-2dd391b3ee6b"
      },
      "execution_count": 2,
      "outputs": [
        {
          "output_type": "stream",
          "name": "stdout",
          "text": [
            "['Portugal', 'Germany', 'Munster', 'Spain']\n",
            "['Portugal', 'Germany', 'Spain']\n"
          ]
        }
      ]
    },
    {
      "cell_type": "code",
      "source": [
        "#save the filtered list into a separate text file\n",
        "with open('checked.txt', 'w') as f2:\n",
        "  for element in checked:\n",
        "    f2.write(element + '\\n')"
      ],
      "metadata": {
        "id": "GlIgQf4xm0lX"
      },
      "execution_count": 4,
      "outputs": []
    },
    {
      "cell_type": "markdown",
      "source": [
        "\n",
        "\n",
        "---\n",
        "\n"
      ],
      "metadata": {
        "id": "66Nd21qJnjpo"
      }
    },
    {
      "cell_type": "code",
      "source": [
        "#Ardit answer:\n",
        "\n",
        "# checklist = [\"Portugal\", \"Germany\", \"Munster\", \"Spain\"]\n",
        "\n",
        "# with open(\"countries-clean.txt\", \"r\") as file:\n",
        "#     content = file.readlines()\n",
        "\n",
        "# content = [i.rstrip('\\n') for i in content]\n",
        "# checked = [i for i in content if i in checklist]\n",
        "\n",
        "# print(checked)\n"
      ],
      "metadata": {
        "id": "IOotUg_RngyX"
      },
      "execution_count": null,
      "outputs": []
    },
    {
      "cell_type": "markdown",
      "source": [
        "\n",
        "Explanation:\n",
        "\n",
        "We're opening our file data source and loading it in Python as a list in content. Then we clean out that list of break lines in line 6. Then, in line 7, we check if the items of content  are in checklist and if they are, we leave them on the list; otherwise, we remove them. So, we end up with only three matches."
      ],
      "metadata": {
        "id": "Azr-T4LLncWS"
      }
    }
  ]
}