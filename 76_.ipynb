{
  "nbformat": 4,
  "nbformat_minor": 0,
  "metadata": {
    "colab": {
      "provenance": [],
      "authorship_tag": "ABX9TyNrKmexl3in/frZP8rNqevK",
      "include_colab_link": true
    },
    "kernelspec": {
      "name": "python3",
      "display_name": "Python 3"
    },
    "language_info": {
      "name": "python"
    }
  },
  "cells": [
    {
      "cell_type": "markdown",
      "metadata": {
        "id": "view-in-github",
        "colab_type": "text"
      },
      "source": [
        "<a href=\"https://colab.research.google.com/github/egipot/100exercises_python/blob/main/76_.ipynb\" target=\"_parent\"><img src=\"https://colab.research.google.com/assets/colab-badge.svg\" alt=\"Open In Colab\"/></a>"
      ]
    },
    {
      "cell_type": "code",
      "source": [
        "#Exercise 76\n",
        "#Make a script that prints out the current day and time. For example Today is Sunday, December 25, 2016.\n",
        "\n",
        "\n",
        "import datetime\n",
        "\n",
        "tday = datetime.date.today()\n"
      ],
      "metadata": {
        "id": "sY6IHmY65M6v"
      },
      "execution_count": 50,
      "outputs": []
    },
    {
      "cell_type": "code",
      "source": [
        "print(tday.strftime('Today is %A, %B %d, %Y'))"
      ],
      "metadata": {
        "colab": {
          "base_uri": "https://localhost:8080/"
        },
        "id": "AfoaAzwQ7i6v",
        "outputId": "846023cb-2dd2-46e1-c7ff-c3450036e51a"
      },
      "execution_count": 51,
      "outputs": [
        {
          "output_type": "stream",
          "name": "stdout",
          "text": [
            "Today is Friday, May 31, 2024\n"
          ]
        }
      ]
    },
    {
      "cell_type": "markdown",
      "source": [
        "\n",
        "\n",
        "---\n",
        "\n"
      ],
      "metadata": {
        "id": "7PSg3zY67LOj"
      }
    },
    {
      "cell_type": "code",
      "source": [
        "#Hint: Use the datetime module and format codes from here: http://strftime.org/\n",
        "\n",
        "#ardit answer:\n",
        "from datetime import datetime\n",
        "print(datetime.now().strftime(\"Today is %A, %B %d, %Y\"))"
      ],
      "metadata": {
        "colab": {
          "base_uri": "https://localhost:8080/"
        },
        "id": "ru8cXzFK7J8i",
        "outputId": "da4cabc9-ab48-4058-8854-541365dac419"
      },
      "execution_count": 52,
      "outputs": [
        {
          "output_type": "stream",
          "name": "stdout",
          "text": [
            "Today is Friday, May 31, 2024\n"
          ]
        }
      ]
    },
    {
      "cell_type": "markdown",
      "source": [
        "Explanation:\n",
        "\n",
        "We're using datetime  standard module here, which supplies classes to manipulate dates and times. Note that datetime.now()  would produce 2016-12-25 22:54:34.153209, which is a datetime  object. However, by applying strftime (string from time), we convert that object to a readable string using format codes. For example, %A  would extract the day, %B  the month, %d  the date, and %Y  the year. You can find the complete list of format codes on the strftime.org website."
      ],
      "metadata": {
        "id": "z0KlAOsR7YB0"
      }
    }
  ]
}