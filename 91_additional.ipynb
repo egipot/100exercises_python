{
  "nbformat": 4,
  "nbformat_minor": 0,
  "metadata": {
    "colab": {
      "provenance": [],
      "authorship_tag": "ABX9TyP1M1YGgKeSxSNNWvjGPlMU",
      "include_colab_link": true
    },
    "kernelspec": {
      "name": "python3",
      "display_name": "Python 3"
    },
    "language_info": {
      "name": "python"
    }
  },
  "cells": [
    {
      "cell_type": "markdown",
      "metadata": {
        "id": "view-in-github",
        "colab_type": "text"
      },
      "source": [
        "<a href=\"https://colab.research.google.com/github/egipot/100exercises_python/blob/main/91_additional.ipynb\" target=\"_parent\"><img src=\"https://colab.research.google.com/assets/colab-badge.svg\" alt=\"Open In Colab\"/></a>"
      ]
    },
    {
      "cell_type": "code",
      "execution_count": 1,
      "metadata": {
        "id": "BxjCB4DadZVK"
      },
      "outputs": [],
      "source": [
        "# Please download the database file database.db and the ten_more_countries.txt file.\n",
        "# Then, add the rows of the text file to the database file.\n",
        "\n",
        "# Hint: You need to use the SQL insert method here.\n",
        "\n",
        "import sqlite3\n",
        "import pandas as pd"
      ]
    },
    {
      "cell_type": "code",
      "source": [
        "more_countries = pd.read_csv('five_more_countries.txt')"
      ],
      "metadata": {
        "id": "S0lYxwAGdsod"
      },
      "execution_count": 2,
      "outputs": []
    },
    {
      "cell_type": "code",
      "source": [
        "conn = sqlite3.connect('database.db')"
      ],
      "metadata": {
        "id": "S8P1DvDhdwZ2"
      },
      "execution_count": 3,
      "outputs": []
    },
    {
      "cell_type": "code",
      "source": [
        "cur = conn.cursor()"
      ],
      "metadata": {
        "id": "HzBoewxcdyXu"
      },
      "execution_count": 4,
      "outputs": []
    },
    {
      "cell_type": "code",
      "source": [
        "for index, row in more_countries.iterrows():\n",
        "  print(row[\"Country\"], row[\"Area\"])\n",
        "  cur.execute(\"INSERT INTO countries (Country, Area) VALUES (?, ?)\", (row[\"Country\"], row[\"Area\"]))"
      ],
      "metadata": {
        "colab": {
          "base_uri": "https://localhost:8080/"
        },
        "id": "hn0Y_2l5d3LP",
        "outputId": "35e1851e-dcd8-471d-9eb0-01546e65568a"
      },
      "execution_count": 5,
      "outputs": [
        {
          "output_type": "stream",
          "name": "stdout",
          "text": [
            "Asdf 341234\n",
            "Qwerty 243307\n",
            "Zxcvb 223487\n",
            "Poiuy 142315\n",
            "Lkjhg 124876\n"
          ]
        }
      ]
    },
    {
      "cell_type": "code",
      "source": [
        "conn.commit()"
      ],
      "metadata": {
        "id": "sPhMZ8uBd3Z0"
      },
      "execution_count": 6,
      "outputs": []
    },
    {
      "cell_type": "code",
      "source": [
        "#check the results:\n",
        "result = cur.execute(\"SELECT * FROM countries\").fetchall()\n",
        "result"
      ],
      "metadata": {
        "colab": {
          "base_uri": "https://localhost:8080/"
        },
        "id": "EJVYjodkd9Bk",
        "outputId": "043ab55d-45bf-48e5-af88-d18ce49d9640"
      },
      "execution_count": 7,
      "outputs": [
        {
          "output_type": "execute_result",
          "data": {
            "text/plain": [
              "[(1, 'Russia', 17075200, 142833689),\n",
              " (2, 'Canada', 9984670, 35181704),\n",
              " (3, 'United States of America', 9826630, 320050716),\n",
              " (4, 'China', 9596960, 1385566537),\n",
              " (5, 'Brazil', 8511965, 200361925),\n",
              " (6, 'Australia', 7686850, 23342553),\n",
              " (7, 'India', 3287590, 1252139596),\n",
              " (8, 'Argentina', 2766890, 41446246),\n",
              " (9, 'Kazakhstan', 2717300, 16440586),\n",
              " (10, 'Algeria', 2381740, 39208194),\n",
              " (11, 'Congo Dem Rep of the', 2345410, 67513677),\n",
              " (12, 'Greenland', 2166086, 56987),\n",
              " (13, 'Saudi Arabia', 2149690, 28828870),\n",
              " (14, 'Mexico', 1972550, 122332399),\n",
              " (15, 'Indonesia', 1919440, 249865631),\n",
              " (16, 'Sudan', 1844729, 37964306),\n",
              " (17, 'Libya', 1759540, 6201521),\n",
              " (18, 'Iran', 1648000, 77447168),\n",
              " (19, 'Mongolia', 1564116, 2839073),\n",
              " (20, 'Peru', 1285220, 30375603),\n",
              " (21, 'Chad', 1284000, 12825314),\n",
              " (22, 'Niger', 1267000, 17831270),\n",
              " (23, 'Angola', 1246700, 21471618),\n",
              " (24, 'Mali', 1240000, 15301650),\n",
              " (25, 'South Africa', 1219912, 52776130),\n",
              " (26, 'Colombia', 1138910, 48321405),\n",
              " (27, 'Ethiopia', 1127127, 94100756),\n",
              " (28, 'Bolivia', 1098580, 10671200),\n",
              " (29, 'Mauritania', 1030700, 3889880),\n",
              " (30, 'Egypt', 1001450, 82056378),\n",
              " (31, 'Tanzania', 945087, 49253126),\n",
              " (32, 'Nigeria', 923768, 173615345),\n",
              " (33, 'Venezuela', 912050, 30405207),\n",
              " (34, 'Namibia', 825418, 2303315),\n",
              " (35, 'Pakistan', 803940, 182142594),\n",
              " (36, 'Mozambique', 801590, 25833752),\n",
              " (37, 'Turkey', 780580, 74932641),\n",
              " (38, 'Chile', 756950, 17619708),\n",
              " (39, 'Zambia', 752614, 14538640),\n",
              " (40, 'Myanmar (Burma)', 678500, 53259018),\n",
              " (41, 'Afghanistan', 647500, 30551674),\n",
              " (42, 'South Sudan', 644329, 11296173),\n",
              " (43, 'France', 643427, 64291280),\n",
              " (44, 'Somalia', 637657, 10495583),\n",
              " (45, 'Central African Republic', 622984, 4616417),\n",
              " (46, 'Ukraine', 603700, 45238805),\n",
              " (47, 'Botswana', 600370, 2021144),\n",
              " (48, 'Madagascar', 587040, 22924851),\n",
              " (49, 'Kenya', 582650, 44353691),\n",
              " (50, 'Yemen', 527970, 24407381),\n",
              " (51, 'Asdf', 341234, None),\n",
              " (52, 'Qwerty', 243307, None),\n",
              " (53, 'Zxcvb', 223487, None),\n",
              " (54, 'Poiuy', 142315, None),\n",
              " (55, 'Lkjhg', 124876, None)]"
            ]
          },
          "metadata": {},
          "execution_count": 7
        }
      ]
    },
    {
      "cell_type": "code",
      "source": [
        "more_countries_orig = pd.read_csv('ten_more_countries.txt')"
      ],
      "metadata": {
        "id": "LhfZTfAVeQRS"
      },
      "execution_count": 8,
      "outputs": []
    },
    {
      "cell_type": "code",
      "source": [
        "for index, row in more_countries_orig.iterrows():\n",
        "  print(row[\"Country\"], row[\"Area\"])\n",
        "  cur.execute(\"INSERT INTO countries (Country, Area) VALUES (?, ?)\", (row[\"Country\"], row[\"Area\"]))"
      ],
      "metadata": {
        "colab": {
          "base_uri": "https://localhost:8080/"
        },
        "id": "O07_Nqwrecc7",
        "outputId": "b12e71a4-4ee4-4310-8e36-6e8d7500454d"
      },
      "execution_count": 9,
      "outputs": [
        {
          "output_type": "stream",
          "name": "stdout",
          "text": [
            "Spain 499401\n",
            "Turkmenistan 488100\n",
            "Cameroon 469440\n",
            "Papua New Guinea 451709\n",
            "Uzbekistan 447400\n",
            "Morocco 446301\n",
            "Iraq 433970\n",
            "Sweden 411621\n",
            "Paraguay 397301\n",
            "Japan 394744\n"
          ]
        }
      ]
    },
    {
      "cell_type": "code",
      "source": [
        "conn.commit()"
      ],
      "metadata": {
        "id": "3IdSIXwWeg17"
      },
      "execution_count": 10,
      "outputs": []
    },
    {
      "cell_type": "code",
      "source": [
        "#check the results:\n",
        "result = cur.execute(\"SELECT * FROM countries\").fetchall()\n",
        "result"
      ],
      "metadata": {
        "colab": {
          "base_uri": "https://localhost:8080/"
        },
        "id": "sMuouSgveikk",
        "outputId": "657feba5-697f-4bc6-e7ce-64e7b2c28242"
      },
      "execution_count": 11,
      "outputs": [
        {
          "output_type": "execute_result",
          "data": {
            "text/plain": [
              "[(1, 'Russia', 17075200, 142833689),\n",
              " (2, 'Canada', 9984670, 35181704),\n",
              " (3, 'United States of America', 9826630, 320050716),\n",
              " (4, 'China', 9596960, 1385566537),\n",
              " (5, 'Brazil', 8511965, 200361925),\n",
              " (6, 'Australia', 7686850, 23342553),\n",
              " (7, 'India', 3287590, 1252139596),\n",
              " (8, 'Argentina', 2766890, 41446246),\n",
              " (9, 'Kazakhstan', 2717300, 16440586),\n",
              " (10, 'Algeria', 2381740, 39208194),\n",
              " (11, 'Congo Dem Rep of the', 2345410, 67513677),\n",
              " (12, 'Greenland', 2166086, 56987),\n",
              " (13, 'Saudi Arabia', 2149690, 28828870),\n",
              " (14, 'Mexico', 1972550, 122332399),\n",
              " (15, 'Indonesia', 1919440, 249865631),\n",
              " (16, 'Sudan', 1844729, 37964306),\n",
              " (17, 'Libya', 1759540, 6201521),\n",
              " (18, 'Iran', 1648000, 77447168),\n",
              " (19, 'Mongolia', 1564116, 2839073),\n",
              " (20, 'Peru', 1285220, 30375603),\n",
              " (21, 'Chad', 1284000, 12825314),\n",
              " (22, 'Niger', 1267000, 17831270),\n",
              " (23, 'Angola', 1246700, 21471618),\n",
              " (24, 'Mali', 1240000, 15301650),\n",
              " (25, 'South Africa', 1219912, 52776130),\n",
              " (26, 'Colombia', 1138910, 48321405),\n",
              " (27, 'Ethiopia', 1127127, 94100756),\n",
              " (28, 'Bolivia', 1098580, 10671200),\n",
              " (29, 'Mauritania', 1030700, 3889880),\n",
              " (30, 'Egypt', 1001450, 82056378),\n",
              " (31, 'Tanzania', 945087, 49253126),\n",
              " (32, 'Nigeria', 923768, 173615345),\n",
              " (33, 'Venezuela', 912050, 30405207),\n",
              " (34, 'Namibia', 825418, 2303315),\n",
              " (35, 'Pakistan', 803940, 182142594),\n",
              " (36, 'Mozambique', 801590, 25833752),\n",
              " (37, 'Turkey', 780580, 74932641),\n",
              " (38, 'Chile', 756950, 17619708),\n",
              " (39, 'Zambia', 752614, 14538640),\n",
              " (40, 'Myanmar (Burma)', 678500, 53259018),\n",
              " (41, 'Afghanistan', 647500, 30551674),\n",
              " (42, 'South Sudan', 644329, 11296173),\n",
              " (43, 'France', 643427, 64291280),\n",
              " (44, 'Somalia', 637657, 10495583),\n",
              " (45, 'Central African Republic', 622984, 4616417),\n",
              " (46, 'Ukraine', 603700, 45238805),\n",
              " (47, 'Botswana', 600370, 2021144),\n",
              " (48, 'Madagascar', 587040, 22924851),\n",
              " (49, 'Kenya', 582650, 44353691),\n",
              " (50, 'Yemen', 527970, 24407381),\n",
              " (51, 'Asdf', 341234, None),\n",
              " (52, 'Qwerty', 243307, None),\n",
              " (53, 'Zxcvb', 223487, None),\n",
              " (54, 'Poiuy', 142315, None),\n",
              " (55, 'Lkjhg', 124876, None),\n",
              " (56, 'Spain', 499401, None),\n",
              " (57, 'Turkmenistan', 488100, None),\n",
              " (58, 'Cameroon', 469440, None),\n",
              " (59, 'Papua New Guinea', 451709, None),\n",
              " (60, 'Uzbekistan', 447400, None),\n",
              " (61, 'Morocco', 446301, None),\n",
              " (62, 'Iraq', 433970, None),\n",
              " (63, 'Sweden', 411621, None),\n",
              " (64, 'Paraguay', 397301, None),\n",
              " (65, 'Japan', 394744, None)]"
            ]
          },
          "metadata": {},
          "execution_count": 11
        }
      ]
    },
    {
      "cell_type": "code",
      "source": [
        "def check_db_connection(conn):\n",
        "  try:\n",
        "    conn.cursor\n",
        "    return True\n",
        "  except:\n",
        "    return False"
      ],
      "metadata": {
        "id": "lQHCmuMHfI7X"
      },
      "execution_count": 13,
      "outputs": []
    },
    {
      "cell_type": "code",
      "source": [
        "check_db_connection(conn)"
      ],
      "metadata": {
        "colab": {
          "base_uri": "https://localhost:8080/"
        },
        "id": "0h5knj00fhLa",
        "outputId": "fdd77026-a4b7-4d82-ae67-25ab299a4720"
      },
      "execution_count": 14,
      "outputs": [
        {
          "output_type": "execute_result",
          "data": {
            "text/plain": [
              "True"
            ]
          },
          "metadata": {},
          "execution_count": 14
        }
      ]
    },
    {
      "cell_type": "code",
      "source": [
        "conn.close()"
      ],
      "metadata": {
        "id": "SS3HJNTwe6Wv"
      },
      "execution_count": 15,
      "outputs": []
    }
  ]
}