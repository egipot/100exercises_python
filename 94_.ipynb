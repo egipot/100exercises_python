{
 "cells": [
  {
   "cell_type": "code",
   "execution_count": null,
   "id": "bf5cebba-9ca3-4b1f-bfee-a434d7550882",
   "metadata": {},
   "outputs": [
    {
     "name": "stdout",
     "output_type": "stream",
     "text": [
      "['https:/www.google.com\\n', 'https:/www.yahoo.com\\n', 'https:/www.stackoverflow.com\\n', 'https:/www.pythonhow.com\\n']\n"
     ]
    }
   ],
   "source": [
    "# Exercise 94 - URL Cleaner\n",
    "\n",
    "# Question: \n",
    "# Please download the attached urls.txt file. \n",
    "# The file contains some broken URLs. Here's what the file contains:\n",
    "\n",
    "# https:/www.google.com\n",
    "# https:/www.yahoo.com\n",
    "# https:/www.stackoverflow.com\n",
    "# https:/www.pythonhow.com\n",
    "# Please use Python to remove the \"s\" from \"https\" and add another forward slash next to the existing slash, so the content looks like in the expected output.\n",
    "\n",
    "# Expected output: \n",
    "\n",
    "# http://www.google.com\n",
    "# http://www.yahoo.com\n",
    "# http://www.stackoverflow.com\n",
    "# http://www.pythonhow.com\n",
    "\n",
    "# Hint 1: To remove the first occurrence of a character in a string, \n",
    "# you would use \"sample\".replace(\"s\", \"\", 1) \n",
    "\n",
    "# Hint 2: To add a character somewhere in a string, \n",
    "# you could do something like \"sample\"[:2] + \"x\" + \"sample\"[2:] .\n",
    "\n",
    "with open('urls.txt', 'r') as file:\n",
    "    lines = file.readlines()\n",
    "\n",
    "print(lines)\n",
    "\n",
    "with open('urls_connected.txt', 'w') as file:\n",
    "    for line in lines:\n",
    "        line_remove_s = line.replace ('s', '', 1)\n",
    "        line_remove_s_add_slash = line_remove_s[:6] + '/' + line_remove_s[6:]\n",
    "        file.write (line_remove_s_add_slash)"
   ]
  }
 ],
 "metadata": {
  "language_info": {
   "codemirror_mode": {
    "name": "ipython",
    "version": 3
   },
   "file_extension": ".py",
   "mimetype": "text/x-python",
   "name": "python",
   "nbconvert_exporter": "python",
   "pygments_lexer": "ipython3",
   "version": 3
  }
 },
 "nbformat": 4,
 "nbformat_minor": 2
}
